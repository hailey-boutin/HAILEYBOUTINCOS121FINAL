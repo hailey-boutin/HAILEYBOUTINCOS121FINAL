{
 "cells": [
  {
   "cell_type": "code",
   "execution_count": null,
   "metadata": {},
   "outputs": [],
   "source": [
    "#appid[0],name[1],release_date[2],english[3],developer[4],publisher[5],platforms[6],required_age[7],categories[8]\n",
    "#genres[9],steamspy_tags[10],achievements[11],positive_ratings[12],negative_ratings[13],average_playtime[14]\n",
    "#median_playtime[15],owners[16],price[17]\n",
    "\n",
    "search = input(\"Enter a game title\")\n",
    "\n",
    "with open(r\"C:\\Users\\haile\\OneDrive\\Documents\\COS121\\Final Project stuff\\steam.csv\", \"r\" ,encoding=\"utf-8\") as file:\n",
    "    #This finds a game based on its title\n",
    "    for line in file:\n",
    "        data = line.split(\",\") #This splits the lines of data on the comma, so we are able to print just one part of it\n",
    "        if search in data[1]: #this line makes the program look for the search in the [1] position, the name of the game\n",
    "            print(line)"
   ]
  },
  {
   "cell_type": "code",
   "execution_count": null,
   "metadata": {},
   "outputs": [],
   "source": [
    "import random\n",
    "\n",
    "recommender=input(\"What Genre Are You Interested in?: \")\n",
    "#Now we are searching for games based on Genre\n",
    "rec_list=[] #this is a list of all games in a given genre (In the data set), set as empty to begin\n",
    "rec_score=0\n",
    "rando_number=0\n",
    "random_recommendation=\"\" #by using random, it allows us to recommend a single game for a user out of the games tagged with that genre, instead of all of them\n",
    "#by setting random_recommendation as an empty string, it allows it to be fluid, and not one set game title\n",
    "with open(r\"C:\\Users\\haile\\OneDrive\\Documents\\COS121\\Final Project stuff\\steam.csv\", \"r\" ,encoding=\"utf-8\") as file:\n",
    "\n",
    "    for line in file:\n",
    "        data=line.split (\",\") #Yet again, splitting the data\n",
    "        if recommender in data[9]: #like when we had [1], this looks for searches in spot [9], the genre category.\n",
    "            rec_list.append(data[1])\n",
    "    rando_number=random.randrange(len(rec_list))\n",
    "    random_recommendation=rec_list[rando_number] \n",
    "    #this is like above when we had a number inside the square brackets, but this time it can equal a number corresponding to a game in the list (rec_list) of games\n",
    "    print(\"If you like playing\" , recommender , \"games then you should try\" , random_recommendation)   "
   ]
  },
  {
   "cell_type": "code",
   "execution_count": null,
   "metadata": {},
   "outputs": [],
   "source": [
    "top_ratings= input(\"Wanna know the best games in a genre?\") #This time we are providing the highest rated game in a given genre\n",
    "top_score=0\n",
    "result=\"\"\n",
    "\n",
    "with open(r\"C:\\Users\\haile\\OneDrive\\Documents\\COS121\\Final Project stuff\\steam.csv\", \"r\" ,encoding=\"utf-8\") as file:\n",
    "\n",
    "    for line in file:\n",
    "        data=line.split (\",\")\n",
    "        if top_ratings in data[9]: #this says that if what the user searches in a genre in the data set, continue \n",
    "            if int(data[12]) > top_score:\n",
    "     #this goes through every game w/in the searched genre, and if the next game in the list is rated higher, it replaces it with that one, if not, continue until it finds one that is or is done\n",
    "                result=data[1] #This sets the result to print the game's name\n",
    "                top_score=int(data[12])\n",
    "    print(\"The top game in the\" , top_ratings , \"genre is: \" , result)"
   ]
  }
 ],
 "metadata": {
  "kernelspec": {
   "display_name": "Python 3",
   "language": "python",
   "name": "python3"
  },
  "language_info": {
   "codemirror_mode": {
    "name": "ipython",
    "version": 3
   },
   "file_extension": ".py",
   "mimetype": "text/x-python",
   "name": "python",
   "nbconvert_exporter": "python",
   "pygments_lexer": "ipython3",
   "version": "3.11.7"
  }
 },
 "nbformat": 4,
 "nbformat_minor": 2
}
